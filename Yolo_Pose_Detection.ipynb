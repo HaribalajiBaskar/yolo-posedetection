{
  "nbformat": 4,
  "nbformat_minor": 0,
  "metadata": {
    "colab": {
      "provenance": [],
      "include_colab_link": true
    },
    "kernelspec": {
      "name": "python3",
      "display_name": "Python 3"
    },
    "language_info": {
      "name": "python"
    },
    "accelerator": "GPU",
    "gpuClass": "standard"
  },
  "cells": [
    {
      "cell_type": "markdown",
      "metadata": {
        "id": "view-in-github",
        "colab_type": "text"
      },
      "source": [
        "<a href=\"https://colab.research.google.com/github/HaribalajiBaskar/yolo-posedetection/blob/main/Yolo_Pose_Detection.ipynb\" target=\"_parent\"><img src=\"https://colab.research.google.com/assets/colab-badge.svg\" alt=\"Open In Colab\"/></a>"
      ]
    },
    {
      "cell_type": "markdown",
      "source": [
        "# Youtube Video can be downloaded using below code.**bold text**"
      ],
      "metadata": {
        "id": "7Iz_3PSxNvqL"
      }
    },
    {
      "cell_type": "code",
      "source": [
        "!pip install pytube\n",
        "import os, sys\n",
        "from pytube import YouTube\n",
        "youtube = YouTube(\"https://www.youtube.com/watch?v=plyyU1rRouQ\")     #paste the link over her.\n",
        "\n",
        "print(youtube.title)\n",
        "video = youtube.streams.get_highest_resolution()\n",
        "video.download()"
      ],
      "metadata": {
        "id": "fO0U-umPkZZ6"
      },
      "execution_count": null,
      "outputs": []
    },
    {
      "cell_type": "markdown",
      "source": [
        "# YOLOv7 Pose **Detection**"
      ],
      "metadata": {
        "id": "TrdJB-vAN2lT"
      }
    },
    {
      "cell_type": "code",
      "source": [
        "!wget https://github.com/WongKinYiu/yolov7/archive/refs/heads/pose.zip\n"
      ],
      "metadata": {
        "id": "uRgzwT-nkJkX"
      },
      "execution_count": null,
      "outputs": []
    },
    {
      "cell_type": "code",
      "source": [
        "!unzip pose.zip\n"
      ],
      "metadata": {
        "id": "3LEDKPSAkLZz"
      },
      "execution_count": null,
      "outputs": []
    },
    {
      "cell_type": "code",
      "source": [
        "cd /content/yolov7-pose\n"
      ],
      "metadata": {
        "id": "HTtuXEjUkQZc"
      },
      "execution_count": null,
      "outputs": []
    },
    {
      "cell_type": "code",
      "source": [
        "!wget https://github.com/WongKinYiu/yolov7/releases/download/v0.1/yolov7-w6-pose.pt"
      ],
      "metadata": {
        "id": "mKHIj3eLmHK6"
      },
      "execution_count": null,
      "outputs": []
    },
    {
      "cell_type": "code",
      "source": [
        "!pip install -r requirements.txt "
      ],
      "metadata": {
        "id": "JpeEqwudl7VC"
      },
      "execution_count": null,
      "outputs": []
    },
    {
      "cell_type": "markdown",
      "source": [
        "# In the below code line pose estimation will be performed on the video."
      ],
      "metadata": {
        "id": "AgbWS_Q1OFEB"
      }
    },
    {
      "cell_type": "code",
      "source": [
        "!python detect.py --weights \"/content/yolov7-pose/yolov7-w6-pose.pt\" --kpt-label --hide-labels --hide-conf --source \"/content/yolov7-pose/Highlights Table Tennis in Slow Motion HD.mp4\" \n",
        "## paste the video path here in the inverted commas after source as an example is given for you."
      ],
      "metadata": {
        "id": "qXZ21zzEl9bv"
      },
      "execution_count": null,
      "outputs": []
    },
    {
      "cell_type": "code",
      "source": [],
      "metadata": {
        "id": "5JtnTHpjOWTh"
      },
      "execution_count": null,
      "outputs": []
    }
  ]
}